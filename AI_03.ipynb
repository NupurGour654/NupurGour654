{
  "nbformat": 4,
  "nbformat_minor": 0,
  "metadata": {
    "colab": {
      "provenance": [],
      "authorship_tag": "ABX9TyP0Qsg8ojmqfCBQQipjF8mR",
      "include_colab_link": true
    },
    "kernelspec": {
      "name": "python3",
      "display_name": "Python 3"
    },
    "language_info": {
      "name": "python"
    }
  },
  "cells": [
    {
      "cell_type": "markdown",
      "metadata": {
        "id": "view-in-github",
        "colab_type": "text"
      },
      "source": [
        "<a href=\"https://colab.research.google.com/github/NupurGour654/NupurGour654/blob/main/AI_03.ipynb\" target=\"_parent\"><img src=\"https://colab.research.google.com/assets/colab-badge.svg\" alt=\"Open In Colab\"/></a>"
      ]
    },
    {
      "cell_type": "code",
      "execution_count": null,
      "metadata": {
        "colab": {
          "base_uri": "https://localhost:8080/",
          "height": 871
        },
        "id": "q_Mg9BE12Fv_",
        "outputId": "3ddffe65-2cbf-4506-c4af-c5b35a78e300"
      },
      "outputs": [
        {
          "output_type": "stream",
          "name": "stderr",
          "text": [
            "/usr/local/lib/python3.11/dist-packages/keras/src/layers/core/dense.py:87: UserWarning: Do not pass an `input_shape`/`input_dim` argument to a layer. When using Sequential models, prefer using an `Input(shape)` object as the first layer in the model instead.\n",
            "  super().__init__(activity_regularizer=activity_regularizer, **kwargs)\n"
          ]
        },
        {
          "output_type": "stream",
          "name": "stdout",
          "text": [
            "\u001b[1m1/1\u001b[0m \u001b[32m━━━━━━━━━━━━━━━━━━━━\u001b[0m\u001b[37m\u001b[0m \u001b[1m0s\u001b[0m 72ms/step\n",
            "Classification Report:\n",
            "              precision    recall  f1-score   support\n",
            "\n",
            "           0       1.00      1.00      1.00        10\n",
            "           1       1.00      1.00      1.00         9\n",
            "           2       1.00      1.00      1.00        11\n",
            "\n",
            "    accuracy                           1.00        30\n",
            "   macro avg       1.00      1.00      1.00        30\n",
            "weighted avg       1.00      1.00      1.00        30\n",
            "\n"
          ]
        },
        {
          "output_type": "display_data",
          "data": {
            "text/plain": [
              "<Figure size 600x500 with 2 Axes>"
            ],
            "image/png": "[encoded data removed]"
          },
          "metadata": {}
        },
        {
          "output_type": "stream",
          "name": "stderr",
          "text": [
            "/usr/local/lib/python3.11/dist-packages/keras/src/layers/core/dense.py:87: UserWarning: Do not pass an `input_shape`/`input_dim` argument to a layer. When using Sequential models, prefer using an `Input(shape)` object as the first layer in the model instead.\n",
            "  super().__init__(activity_regularizer=activity_regularizer, **kwargs)\n"
          ]
        },
        {
          "output_type": "stream",
          "name": "stdout",
          "text": [
            "\u001b[1m129/129\u001b[0m \u001b[32m━━━━━━━━━━━━━━━━━━━━\u001b[0m\u001b[37m\u001b[0m \u001b[1m0s\u001b[0m 1ms/step  \n",
            "\n",
            "Regression Metrics:\n",
            "MSE: 0.2859\n",
            "R² Score: 0.7818\n"
          ]
        }
      ],
      "source": [
        "import numpy as np\n",
        "import tensorflow as tf\n",
        "from tensorflow import keras\n",
        "from sklearn.model_selection import train_test_split\n",
        "from sklearn.preprocessing import StandardScaler, LabelEncoder\n",
        "from sklearn.metrics import confusion_matrix, classification_report, mean_squared_error, r2_score\n",
        "import seaborn as sns\n",
        "import matplotlib.pyplot as plt\n",
        "from sklearn.datasets import load_iris, fetch_california_housing\n",
        "\n",
        "# ---------------- Classification Task (Iris Dataset) -----------------\n",
        "# Load dataset\n",
        "iris = load_iris()\n",
        "X_class = iris.data\n",
        "y_class = iris.target\n",
        "\n",
        "# Encode categorical target\n",
        "y_class_encoded = keras.utils.to_categorical(y_class, num_classes=3)\n",
        "\n",
        "# Split dataset\n",
        "X_train_c, X_test_c, y_train_c, y_test_c = train_test_split(X_class, y_class_encoded, test_size=0.2, random_state=42)\n",
        "\n",
        "# Normalize input features\n",
        "scaler_c = StandardScaler()\n",
        "X_train_c = scaler_c.fit_transform(X_train_c)\n",
        "X_test_c = scaler_c.transform(X_test_c)\n",
        "\n",
        "# Build MLP model for classification\n",
        "model_c = keras.Sequential([\n",
        "    keras.layers.Dense(16, activation='relu', input_shape=(X_train_c.shape[1],)),\n",
        "    keras.layers.Dense(8, activation='relu'),\n",
        "    keras.layers.Dense(3, activation='softmax')  # Output layer for 3 classes\n",
        "])\n",
        "\n",
        "model_c.compile(optimizer='adam', loss='categorical_crossentropy', metrics=['accuracy'])\n",
        "\n",
        "# Train model\n",
        "model_c.fit(X_train_c, y_train_c, epochs=50, batch_size=5, verbose=0)\n",
        "\n",
        "# Predict and evaluate\n",
        "y_pred_c = np.argmax(model_c.predict(X_test_c), axis=1)\n",
        "y_test_labels = np.argmax(y_test_c, axis=1)\n",
        "\n",
        "print(\"Classification Report:\")\n",
        "print(classification_report(y_test_labels, y_pred_c))\n",
        "\n",
        "# Confusion Matrix\n",
        "plt.figure(figsize=(6, 5))\n",
        "sns.heatmap(confusion_matrix(y_test_labels, y_pred_c), annot=True, cmap='Blues', fmt='d', xticklabels=iris.target_names, yticklabels=iris.target_names)\n",
        "plt.xlabel('Predicted')\n",
        "plt.ylabel('Actual')\n",
        "plt.title('Confusion Matrix for Classification')\n",
        "plt.show()\n",
        "\n",
        "# ---------------- Regression Task (California Housing Dataset) -----------------\n",
        "# Load dataset\n",
        "housing = fetch_california_housing()\n",
        "X_reg = housing.data\n",
        "y_reg = housing.target\n",
        "\n",
        "# Split dataset\n",
        "X_train_r, X_test_r, y_train_r, y_test_r = train_test_split(X_reg, y_reg, test_size=0.2, random_state=42)\n",
        "\n",
        "# Normalize input features\n",
        "scaler_r = StandardScaler()\n",
        "X_train_r = scaler_r.fit_transform(X_train_r)\n",
        "X_test_r = scaler_r.transform(X_test_r)\n",
        "\n",
        "# Build MLP model for regression\n",
        "model_r = keras.Sequential([\n",
        "    keras.layers.Dense(32, activation='relu', input_shape=(X_train_r.shape[1],)),\n",
        "    keras.layers.Dense(16, activation='relu'),\n",
        "    keras.layers.Dense(1)  # Single output neuron for regression\n",
        "])\n",
        "\n",
        "model_r.compile(optimizer='adam', loss='mse', metrics=['mse'])\n",
        "\n",
        "# Train model\n",
        "model_r.fit(X_train_r, y_train_r, epochs=50, batch_size=10, verbose=0)\n",
        "\n",
        "# Predict and evaluate\n",
        "y_pred_r = model_r.predict(X_test_r)\n",
        "\n",
        "print(\"\\nRegression Metrics:\")\n",
        "print(f\"MSE: {mean_squared_error(y_test_r, y_pred_r):.4f}\")\n",
        "print(f\"R² Score: {r2_score(y_test_r, y_pred_r):.4f}\")\n"
      ]
    },
    {
      "cell_type": "code",
      "source": [],
      "metadata": {
        "id": "94mjPXVb2Hxk"
      },
      "execution_count": null,
      "outputs": []
    }
  ]
}